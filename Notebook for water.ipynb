{
 "cells": [
  {
   "cell_type": "markdown",
   "metadata": {},
   "source": [
    "# 降雨数据初步清理"
   ]
  },
  {
   "cell_type": "markdown",
   "metadata": {},
   "source": [
    "### 2017-1-21日"
   ]
  },
  {
   "cell_type": "markdown",
   "metadata": {},
   "source": [
    "hi,米兰哥，还不知道怎么称呼您比较好。"
   ]
  },
  {
   "cell_type": "code",
   "execution_count": null,
   "metadata": {
    "collapsed": true
   },
   "outputs": [],
   "source": []
  },
  {
   "cell_type": "markdown",
   "metadata": {},
   "source": [
    "之前的数据我在整理的时候发现有异常，就重新做了清理。这花了一天才搞完，因为您导出的数据时间格式很不统一。现在新的图做出来了，但是新的问题出现了，比如2017年的数据就不如之前好看了。"
   ]
  },
  {
   "cell_type": "code",
   "execution_count": null,
   "metadata": {
    "collapsed": true
   },
   "outputs": [],
   "source": []
  },
  {
   "cell_type": "markdown",
   "metadata": {},
   "source": [
    "这样导致我不知道选取哪个进行清理比较好。请您先过目。"
   ]
  },
  {
   "cell_type": "code",
   "execution_count": null,
   "metadata": {
    "collapsed": true
   },
   "outputs": [],
   "source": []
  },
  {
   "cell_type": "markdown",
   "metadata": {},
   "source": [
    "以下是代码和图。"
   ]
  },
  {
   "cell_type": "code",
   "execution_count": null,
   "metadata": {
    "collapsed": true
   },
   "outputs": [],
   "source": []
  },
  {
   "cell_type": "code",
   "execution_count": 1,
   "metadata": {
    "collapsed": true
   },
   "outputs": [],
   "source": [
    "#==================\n",
    "#       水数据修整\n",
    "#       FanMin\n",
    "#       Estabilish:20180101\n",
    "#       Last:20180119\n",
    "#==================\n",
    "library(readxl)\n",
    "library(ggplot2)\n",
    "library(reshape2)"
   ]
  },
  {
   "cell_type": "code",
   "execution_count": 2,
   "metadata": {
    "collapsed": true,
    "scrolled": true
   },
   "outputs": [],
   "source": [
    "setwd(\"/Users/fanmin/Documents/GitHub/R/Water_Beijing\")"
   ]
  },
  {
   "cell_type": "code",
   "execution_count": 49,
   "metadata": {},
   "outputs": [
    {
     "name": "stdout",
     "output_type": "stream",
     "text": [
      "[1] \"/Users/fanmin/Documents/GitHub/R/Water_Beijing/\"\n",
      "[1] \"以下是年数据的基本情况\"\n",
      "      ID                 Date       Water.Content.20m Water.Content.40m\n",
      " Length:42983       Min.   :NA      Min.   :-0.3977   Min.   :-0.3418  \n",
      " Class :character   1st Qu.:NA      1st Qu.: 0.0918   1st Qu.: 0.0882  \n",
      " Mode  :character   Median :NA      Median : 0.1332   Median : 0.1201  \n",
      "                    Mean   :NA      Mean   : 0.1713   Mean   : 0.2260  \n",
      "                    3rd Qu.:NA      3rd Qu.: 0.1724   3rd Qu.: 0.1644  \n",
      "                    Max.   :NA      Max.   : 1.3338   Max.   : 2.5722  \n",
      "                    NA's   :42983                                      \n",
      " Water.Content.60m Water.Content.80m Water.Content.100m\n",
      " Min.   :0.0460    Min.   :-0.1748   Min.   :0.01550   \n",
      " 1st Qu.:0.1100    1st Qu.: 0.0758   1st Qu.:0.06350   \n",
      " Median :0.1434    Median : 0.1020   Median :0.07440   \n",
      " Mean   :0.2836    Mean   : 0.1144   Mean   :0.08389   \n",
      " 3rd Qu.:0.1753    3rd Qu.: 0.1376   3rd Qu.:0.10780   \n",
      " Max.   :1.7899    Max.   : 0.5298   Max.   :0.15790   \n",
      "                                                       \n",
      "\n",
      "\n"
     ]
    }
   ],
   "source": [
    "foldernames <-paste(\"/Users/fanmin/Documents/GitHub/R/Water_Beijing\",dir(pattern = \"milan\"),sep = \"/\")\n",
    "for (yearsfolder in foldernames) {\n",
    "        year <- substr(yearsfolder, 53, 59)\n",
    "        print(yearsfolder)\n",
    "        setwd(yearsfolder)\n",
    "        filenames <- list.files(pattern = \"*.csv\")\n",
    "        for (fns in filenames) {\n",
    "                temp <-\n",
    "                        read.csv(\n",
    "                                fns,\n",
    "                                fileEncoding = \"GB2312\",\n",
    "                                skip = 1,\n",
    "                                stringsAsFactors = F\n",
    "                        )\n",
    "                if (fns == list.files()[1]) {\n",
    "                        temp$X. <- substr(fns, 1, 2)\n",
    "                        db <- temp\n",
    "                } else{\n",
    "                        temp$X. <- substr(fns, 1, 2)\n",
    "                        db <- rbind(db, temp)\n",
    "                }\n",
    "        }\n",
    "        dat <- db\n",
    "        colnames(dat) <-c(\"ID\",\"Date\",\"Water.Content.20m\",\"Water.Content.40m\",\"Water.Content.60m\",\"Water.Content.80m\",\"Water.Content.100m\")\n",
    "        if (year == \"2013\") {\n",
    "                dat$Date <-\n",
    "                        as.POSIXct(strptime(dat$Date, \"%m/%d/%y %H时%M分%S秒\"))\n",
    "        } else{\n",
    "                dat$Date <- gsub(\"上午\", \"AM \", dat$Date)\n",
    "                dat$Date <- gsub(\"下午\", \"PM \", dat$Date)\n",
    "                dat$Date <-\n",
    "                        as.POSIXct(strptime(dat$Date, \"%m/%d/%y %p %I时%M分%S秒\"))\n",
    "        }\n",
    "        dat$Water.Content.20m <- as.numeric(dat$Water.Content.20m)\n",
    "        dat$Water.Content.40m <- as.numeric(dat$Water.Content.40m)\n",
    "        dat$Water.Content.60m <- as.numeric(dat$Water.Content.60m)\n",
    "        dat$Water.Content.80m <- as.numeric(dat$Water.Content.80m)\n",
    "        dat$Water.Content.100m <- as.numeric(dat$Water.Content.100m)\n",
    "        print(paste(\"以下是\",year, \"年数据的基本情况\", sep =\n",
    "                            \"\"))\n",
    "        print(summary(dat))\n",
    "        cat(\"\\n\")\n",
    "        dat <- melt(dat, id.vars = c(\"Date\", \"ID\"))\n",
    "        cat(\"\\n\")\n",
    "}"
   ]
  },
  {
   "cell_type": "markdown",
   "metadata": {},
   "source": [
    "现在的基本情况如图所示，请您看看打算先处理哪个数据吧。"
   ]
  },
  {
   "cell_type": "markdown",
   "metadata": {},
   "source": [
    "不过话说回来，这几个数据的情况，都不容乐观。"
   ]
  },
  {
   "cell_type": "code",
   "execution_count": null,
   "metadata": {
    "collapsed": true
   },
   "outputs": [],
   "source": []
  },
  {
   "cell_type": "markdown",
   "metadata": {},
   "source": [
    "* 检查了几次，还是觉得数据有问题，可能是跟编码有问题。\n",
    "* 直接索性用 python 写了合并代码。"
   ]
  },
  {
   "cell_type": "markdown",
   "metadata": {},
   "source": [
    "删负值"
   ]
  },
  {
   "cell_type": "code",
   "execution_count": null,
   "metadata": {
    "collapsed": true
   },
   "outputs": [],
   "source": []
  }
 ],
 "metadata": {
  "kernelspec": {
   "display_name": "R",
   "language": "R",
   "name": "ir"
  },
  "language_info": {
   "codemirror_mode": "r",
   "file_extension": ".r",
   "mimetype": "text/x-r-source",
   "name": "R",
   "pygments_lexer": "r",
   "version": "3.4.3"
  },
  "latex_envs": {
   "LaTeX_envs_menu_present": true,
   "autocomplete": true,
   "bibliofile": "biblio.bib",
   "cite_by": "apalike",
   "current_citInitial": 1,
   "eqLabelWithNumbers": true,
   "eqNumInitial": 1,
   "hotkeys": {
    "equation": "Ctrl-E",
    "itemize": "Ctrl-I"
   },
   "labels_anchors": false,
   "latex_user_defs": false,
   "report_style_numbering": false,
   "user_envs_cfg": false
  },
  "toc": {
   "nav_menu": {},
   "number_sections": true,
   "sideBar": true,
   "skip_h1_title": false,
   "toc_cell": false,
   "toc_position": {},
   "toc_section_display": "block",
   "toc_window_display": false
  },
  "varInspector": {
   "cols": {
    "lenName": "20",
    "lenType": 16,
    "lenVar": 40
   },
   "kernels_config": {
    "python": {
     "delete_cmd_postfix": "",
     "delete_cmd_prefix": "del ",
     "library": "var_list.py",
     "varRefreshCmd": "print(var_dic_list())"
    },
    "r": {
     "delete_cmd_postfix": ") ",
     "delete_cmd_prefix": "rm(",
     "library": "var_list.r",
     "varRefreshCmd": "cat(var_dic_list()) "
    }
   },
   "types_to_exclude": [
    "module",
    "function",
    "builtin_function_or_method",
    "instance",
    "_Feature"
   ],
   "window_display": false
  }
 },
 "nbformat": 4,
 "nbformat_minor": 2
}
